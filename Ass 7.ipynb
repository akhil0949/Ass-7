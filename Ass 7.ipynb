{
 "cells": [
  {
   "cell_type": "code",
   "execution_count": null,
   "id": "ccdd66ec",
   "metadata": {},
   "outputs": [],
   "source": [
    "1. Write a Python program to print \"hello python\"?\n",
    "Ans)\n",
    "print(\"hello python\")"
   ]
  },
  {
   "cell_type": "code",
   "execution_count": null,
   "id": "0b9b75ab",
   "metadata": {},
   "outputs": [],
   "source": [
    "2. Write a Python program to do arithmetical operations addition and division.?\n",
    "Ans)\n",
    "a = 10\n",
    "b = 5\n",
    "c = a + b\n",
    "d = a % b\n",
    "print(c , d)"
   ]
  },
  {
   "cell_type": "code",
   "execution_count": null,
   "id": "09023cd8",
   "metadata": {},
   "outputs": [],
   "source": [
    "3. Write a Python program to find the area of a triangle?\n",
    "Ans)\n",
    "b = int(input(\"input base of the triangle\"))\n",
    "h = int(input(\"input height of the triangle\"))\n",
    "a = 1/2 * b * h\n",
    "print(\"area of the triangle is \", a)"
   ]
  },
  {
   "cell_type": "code",
   "execution_count": null,
   "id": "215992c7",
   "metadata": {},
   "outputs": [],
   "source": [
    "4. Write a Python program to swap two variables?\n",
    "Ans)\n",
    "x = 5\n",
    "y = 4\n",
    "temp = x\n",
    "x = y\n",
    "y = temp\n",
    "print('The value of x after swapping:{}',x)\n",
    "print('The value of y after swapping:{}',y)      "
   ]
  },
  {
   "cell_type": "code",
   "execution_count": null,
   "id": "f282b1eb",
   "metadata": {},
   "outputs": [],
   "source": [
    "5. Write a Python program to generate a random number?\n",
    "Ans)\n",
    "import random\n",
    "print(random.randint(0,9))"
   ]
  }
 ],
 "metadata": {
  "kernelspec": {
   "display_name": "Python 3",
   "language": "python",
   "name": "python3"
  },
  "language_info": {
   "codemirror_mode": {
    "name": "ipython",
    "version": 3
   },
   "file_extension": ".py",
   "mimetype": "text/x-python",
   "name": "python",
   "nbconvert_exporter": "python",
   "pygments_lexer": "ipython3",
   "version": "3.6.13"
  }
 },
 "nbformat": 4,
 "nbformat_minor": 5
}
